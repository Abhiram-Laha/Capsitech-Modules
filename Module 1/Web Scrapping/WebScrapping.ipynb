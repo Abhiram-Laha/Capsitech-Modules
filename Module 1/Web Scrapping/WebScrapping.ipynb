{
 "cells": [
  {
   "cell_type": "code",
   "execution_count": 1,
   "id": "d3132387-ca64-452a-9324-a01b92ea7dd9",
   "metadata": {},
   "outputs": [],
   "source": [
    "import pandas as pd\n",
    "import requests\n",
    "from bs4 import BeautifulSoup"
   ]
  },
  {
   "cell_type": "code",
   "execution_count": 2,
   "id": "be22d9ce-812f-43e6-84d4-45e463e4836b",
   "metadata": {},
   "outputs": [],
   "source": [
    "url = \"https://www.flipkart.com/search?q=laptops+under+200000&otracker=search&otracker1=search&marketplace=FLIPKART&as-show=off&as=off&p%5B%5D=facets.rating%255B%255D%3D4%25E2%2598%2585%2B%2526%2Babove&page=1\""
   ]
  },
  {
   "cell_type": "code",
   "execution_count": 3,
   "id": "7f95d97d-ec00-4a62-ad62-6c42ba971555",
   "metadata": {},
   "outputs": [
    {
     "data": {
      "text/plain": [
       "'https://www.flipkart.com/search?q=laptops+under+200000&otracker=search&otracker1=search&marketplace=FLIPKART&as-show=off&as=off&p%5B%5D=facets.rating%255B%255D%3D4%25E2%2598%2585%2B%2526%2Babove&page=1'"
      ]
     },
     "execution_count": 3,
     "metadata": {},
     "output_type": "execute_result"
    }
   ],
   "source": [
    "url"
   ]
  },
  {
   "cell_type": "code",
   "execution_count": null,
   "id": "dd141204-bcb4-438d-bee2-72f92c4990d1",
   "metadata": {},
   "outputs": [],
   "source": [
    "r = requests.get(url)"
   ]
  },
  {
   "cell_type": "code",
   "execution_count": null,
   "id": "e442e6b0-99a1-4ce3-85fc-6a015c1ead0a",
   "metadata": {},
   "outputs": [],
   "source": [
    "r"
   ]
  },
  {
   "cell_type": "code",
   "execution_count": null,
   "id": "d7be5527-da74-440d-b859-fe0dae0ba740",
   "metadata": {},
   "outputs": [],
   "source": [
    "soup = BeautifulSoup(r.text, 'html.parser')\n",
    "#soup"
   ]
  },
  {
   "cell_type": "code",
   "execution_count": null,
   "id": "84d82726-6cc6-4652-8985-9187da135bfb",
   "metadata": {},
   "outputs": [],
   "source": [
    "box = soup.find(\"div\",class_ = \"DOjaWF gdgoEp\")"
   ]
  },
  {
   "cell_type": "code",
   "execution_count": null,
   "id": "df2150e5-31c4-4799-8912-7df3b1fb4f21",
   "metadata": {},
   "outputs": [],
   "source": [
    "nextpage = soup.find(\"a\",class_ = \"_9QVEpD\").get(\"href\")"
   ]
  },
  {
   "cell_type": "code",
   "execution_count": null,
   "id": "5131df9d-2159-41e4-bf9e-a5f84ee91299",
   "metadata": {},
   "outputs": [],
   "source": [
    "print(\"https://www.flipkart.com\"+nextpage)"
   ]
  },
  {
   "cell_type": "code",
   "execution_count": null,
   "id": "83267e0e-b29d-4023-a40f-db814a366bcd",
   "metadata": {},
   "outputs": [],
   "source": [
    "new_next = \"https://www.flipkart.com\"+nextpage"
   ]
  },
  {
   "cell_type": "code",
   "execution_count": null,
   "id": "d414c241-5a54-44d9-bf52-3521c430336c",
   "metadata": {},
   "outputs": [],
   "source": [
    "test_scrap = \"https://www.flipkart.com/search?q=laptops+under+200000&otracker=search&otracker1=search&marketplace=FLIPKART&as-show=off&as=off&p%5B%5D=facets.rating%255B%255D%3D4%25E2%2598%2585%2B%2526%2Babove&page=1\""
   ]
  },
  {
   "cell_type": "code",
   "execution_count": null,
   "id": "4a20744b-adc3-495d-a1af-a321951161ba",
   "metadata": {},
   "outputs": [],
   "source": [
    "Product_Name = []\n",
    "Prices = []\n",
    "Descriptions = []\n",
    "Reviews = []\n",
    "Poster_url = []"
   ]
  },
  {
   "cell_type": "code",
   "execution_count": null,
   "id": "14b3cb17-a63c-4917-8641-2f1876b7961c",
   "metadata": {},
   "outputs": [],
   "source": [
    "names = box.find_all(\"div\",class_ = \"KzDlHZ\")\n",
    "print(names[0])\n",
    "\n",
    "\n",
    "for i in names:\n",
    "    name = i.text\n",
    "    Product_Name.append(name)\n",
    "\n",
    "print(Product_Name[0])"
   ]
  },
  {
   "cell_type": "code",
   "execution_count": null,
   "id": "7573ee21-8dc4-4fe4-a25c-3a4b54b6d9d1",
   "metadata": {},
   "outputs": [],
   "source": [
    "prices = box.find_all(\"div\",class_ = \"Nx9bqj _4b5DiR\")\n",
    "print(prices[0])\n",
    "\n",
    "\n",
    "for i in prices:\n",
    "    price = i.text\n",
    "    Prices.append(price)\n",
    "\n",
    "print(Prices[0])"
   ]
  },
  {
   "cell_type": "code",
   "execution_count": null,
   "id": "583aeffe-d5ef-48ef-94dd-fd2fa8b49c04",
   "metadata": {},
   "outputs": [],
   "source": [
    "descriptions = box.find_all(\"div\",class_ = \"_6NESgJ\")\n",
    "print(descriptions[0])\n",
    "\n",
    "\n",
    "for i in descriptions:\n",
    "    description = i.text\n",
    "    Descriptions.append(description)\n",
    "\n",
    "print(Descriptions[0])"
   ]
  },
  {
   "cell_type": "code",
   "execution_count": null,
   "id": "9cf4aa5a-cad2-4b7c-89db-5e171b59fb1e",
   "metadata": {},
   "outputs": [],
   "source": [
    "reviews = box.find_all(\"div\",class_ = \"XQDdHH\")\n",
    "print(reviews[0])\n",
    "\n",
    "\n",
    "for i in reviews:\n",
    "    review = i.text\n",
    "    Reviews.append(review)\n",
    "\n",
    "print(Reviews[0])"
   ]
  },
  {
   "cell_type": "code",
   "execution_count": null,
   "id": "e1868b37-d054-4834-98a2-4a1186a1c744",
   "metadata": {},
   "outputs": [],
   "source": [
    "len(Reviews)"
   ]
  },
  {
   "cell_type": "code",
   "execution_count": null,
   "id": "af286ce5-27bb-46d7-b8d2-c6fbd7695894",
   "metadata": {},
   "outputs": [],
   "source": [
    "len(Product_Name)"
   ]
  },
  {
   "cell_type": "code",
   "execution_count": null,
   "id": "540aebdf-a067-4722-b7d5-f24582fcc156",
   "metadata": {},
   "outputs": [],
   "source": [
    "posters = box.find_all(\"div\",class_ = \"_4WELSP\")\n",
    "print(posters[0])\n",
    "\n",
    "\n",
    "for i in posters:\n",
    "    img_tag = i.find(\"img\")  \n",
    "    Poster_url.append(img_tag['src']) \n",
    "\n",
    "print(Poster_url[0])"
   ]
  },
  {
   "cell_type": "code",
   "execution_count": null,
   "id": "3733fd1f-07be-420f-b4a1-f437cfc7a876",
   "metadata": {},
   "outputs": [],
   "source": []
  },
  {
   "cell_type": "code",
   "execution_count": null,
   "id": "f75587bf-119b-4c52-b7d6-0e28934f425f",
   "metadata": {},
   "outputs": [],
   "source": [
    "'''df = pd.DataFrame({\n",
    "    \"Product Name\": Product_Name,\n",
    "    \"Price\": Prices,\n",
    "    \"Description\": Descriptions,\n",
    "    \"Review\": Reviews,\n",
    "    \"Poster URL\": Poster_url\n",
    "})\n",
    "\n",
    "print(df.head())'''"
   ]
  },
  {
   "cell_type": "code",
   "execution_count": null,
   "id": "8f89fbda-bb5a-4fce-bc00-45e01004b654",
   "metadata": {},
   "outputs": [],
   "source": [
    "Product_Name = []\n",
    "Prices = []\n",
    "Descriptions = []\n",
    "Reviews = []\n",
    "Poster_url = []"
   ]
  },
  {
   "cell_type": "markdown",
   "id": "fe442d02-2169-44ca-888b-4f43adfc1e8e",
   "metadata": {},
   "source": [
    "# MAIN SCRAPPING"
   ]
  },
  {
   "cell_type": "code",
   "execution_count": null,
   "id": "0010ea56-5ff1-4506-9048-a0463663c1a4",
   "metadata": {},
   "outputs": [],
   "source": [
    "for i in range(1,20):\n",
    "    url1 = \"https://www.flipkart.com/search?q=laptops+under+200000&otracker=search&otracker1=search&marketplace=FLIPKART&as-show=off&as=off&p%5B%5D=facets.rating%255B%255D%3D4%25E2%2598%2585%2B%2526%2Babove&page=\"+str(i)\n",
    "    r = requests.get(url1)\n",
    "\n",
    "\n",
    "    soup = BeautifulSoup(r.text, 'html.parser')\n",
    "    box = soup.find(\"div\",class_ = \"DOjaWF gdgoEp\")\n",
    "    nextpage = soup.find(\"a\",class_ = \"_9QVEpD\").get(\"href\")\n",
    "\n",
    "\n",
    "    #NAMES\n",
    "    names = box.find_all(\"div\",class_ = \"KzDlHZ\")    \n",
    "    \n",
    "    for i in names:\n",
    "        name = i.text\n",
    "        Product_Name.append(name)\n",
    "    \n",
    "    #PRICES\n",
    "    prices = box.find_all(\"div\",class_ = \"Nx9bqj _4b5DiR\")\n",
    "    \n",
    "    \n",
    "    for i in prices:\n",
    "        price = i.text\n",
    "        Prices.append(price)\n",
    "    \n",
    "\n",
    "    #Descriptions\n",
    "    descriptions = box.find_all(\"div\",class_ = \"_6NESgJ\")\n",
    "    \n",
    "    \n",
    "    for i in descriptions:\n",
    "        description = i.text\n",
    "        Descriptions.append(description)\n",
    "    \n",
    "    #Reviews\n",
    "    reviews = box.find_all(\"div\",class_ = \"XQDdHH\")\n",
    "    \n",
    "    \n",
    "    for i in reviews:\n",
    "        review = i.text\n",
    "        Reviews.append(review)\n",
    "    \n",
    "\n",
    "\n",
    "    # POSTERS\n",
    "    posters = box.find_all(\"div\",class_ = \"_4WELSP\")\n",
    "    \n",
    "    \n",
    "    for i in posters:\n",
    "        img_tag = i.find(\"img\")  \n",
    "        Poster_url.append(img_tag['src']) \n",
    "    \n",
    "    "
   ]
  },
  {
   "cell_type": "code",
   "execution_count": null,
   "id": "59dec0c2-b043-48d3-a9f4-d135bc048536",
   "metadata": {},
   "outputs": [],
   "source": [
    "df = pd.DataFrame({\n",
    "    \"Product Name\": Product_Name,\n",
    "    \"Price\": Prices,\n",
    "    \"Description\": Descriptions,\n",
    "    \"Review\": Reviews,\n",
    "    \"Poster URL\": Poster_url\n",
    "})\n",
    "\n",
    "print(df.tail())"
   ]
  },
  {
   "cell_type": "code",
   "execution_count": null,
   "id": "de4ffcbf-16c4-40b0-8523-856bec8506f2",
   "metadata": {},
   "outputs": [],
   "source": [
    "df.size"
   ]
  },
  {
   "cell_type": "code",
   "execution_count": null,
   "id": "d47e66f6-23d8-4d55-8e05-c62f6d1e6dca",
   "metadata": {},
   "outputs": [],
   "source": [
    "#df.to_csv(\"Laptop_Flipkart.csv\")"
   ]
  },
  {
   "cell_type": "code",
   "execution_count": null,
   "id": "6b061543-0527-49ec-a8e8-becf2691149d",
   "metadata": {},
   "outputs": [],
   "source": [
    "Poster_url[0]"
   ]
  },
  {
   "cell_type": "code",
   "execution_count": null,
   "id": "e2f91655-001c-463b-8da9-deafcc6156e3",
   "metadata": {},
   "outputs": [],
   "source": []
  }
 ],
 "metadata": {
  "kernelspec": {
   "display_name": "Python 3",
   "language": "python",
   "name": "python3"
  },
  "language_info": {
   "codemirror_mode": {
    "name": "ipython",
    "version": 3
   },
   "file_extension": ".py",
   "mimetype": "text/x-python",
   "name": "python",
   "nbconvert_exporter": "python",
   "pygments_lexer": "ipython3",
   "version": "3.13.1"
  }
 },
 "nbformat": 4,
 "nbformat_minor": 5
}
