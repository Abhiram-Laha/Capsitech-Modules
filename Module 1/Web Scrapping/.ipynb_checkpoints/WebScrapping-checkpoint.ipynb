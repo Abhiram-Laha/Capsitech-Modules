{
 "cells": [
  {
   "cell_type": "code",
   "execution_count": 793,
   "id": "d3132387-ca64-452a-9324-a01b92ea7dd9",
   "metadata": {},
   "outputs": [],
   "source": [
    "import pandas as pd\n",
    "import requests\n",
    "from bs4 import BeautifulSoup"
   ]
  },
  {
   "cell_type": "code",
   "execution_count": 794,
   "id": "be22d9ce-812f-43e6-84d4-45e463e4836b",
   "metadata": {},
   "outputs": [],
   "source": [
    "url = \"https://www.flipkart.com/search?q=laptops+under+200000&otracker=search&otracker1=search&marketplace=FLIPKART&as-show=off&as=off&p%5B%5D=facets.rating%255B%255D%3D4%25E2%2598%2585%2B%2526%2Babove&page=1\""
   ]
  },
  {
   "cell_type": "code",
   "execution_count": 795,
   "id": "dd141204-bcb4-438d-bee2-72f92c4990d1",
   "metadata": {},
   "outputs": [],
   "source": [
    "r = requests.get(url)"
   ]
  },
  {
   "cell_type": "code",
   "execution_count": 796,
   "id": "e442e6b0-99a1-4ce3-85fc-6a015c1ead0a",
   "metadata": {},
   "outputs": [
    {
     "data": {
      "text/plain": [
       "<Response [200]>"
      ]
     },
     "execution_count": 796,
     "metadata": {},
     "output_type": "execute_result"
    }
   ],
   "source": [
    "r"
   ]
  },
  {
   "cell_type": "code",
   "execution_count": 797,
   "id": "d7be5527-da74-440d-b859-fe0dae0ba740",
   "metadata": {},
   "outputs": [],
   "source": [
    "soup = BeautifulSoup(r.text, 'html.parser')\n",
    "#soup"
   ]
  },
  {
   "cell_type": "code",
   "execution_count": 798,
   "id": "84d82726-6cc6-4652-8985-9187da135bfb",
   "metadata": {},
   "outputs": [],
   "source": [
    "box = soup.find(\"div\",class_ = \"DOjaWF gdgoEp\")"
   ]
  },
  {
   "cell_type": "code",
   "execution_count": 799,
   "id": "df2150e5-31c4-4799-8912-7df3b1fb4f21",
   "metadata": {},
   "outputs": [],
   "source": [
    "nextpage = soup.find(\"a\",class_ = \"_9QVEpD\").get(\"href\")"
   ]
  },
  {
   "cell_type": "code",
   "execution_count": 800,
   "id": "5131df9d-2159-41e4-bf9e-a5f84ee91299",
   "metadata": {},
   "outputs": [
    {
     "name": "stdout",
     "output_type": "stream",
     "text": [
      "https://www.flipkart.com/search?q=laptops+under+200000&otracker=search&otracker1=search&marketplace=FLIPKART&as-show=off&as=off&p%5B%5D=facets.rating%255B%255D%3D4%25E2%2598%2585%2B%2526%2Babove&page=2\n"
     ]
    }
   ],
   "source": [
    "print(\"https://www.flipkart.com\"+nextpage)"
   ]
  },
  {
   "cell_type": "code",
   "execution_count": 801,
   "id": "83267e0e-b29d-4023-a40f-db814a366bcd",
   "metadata": {},
   "outputs": [],
   "source": [
    "new_next = \"https://www.flipkart.com\"+nextpage"
   ]
  },
  {
   "cell_type": "code",
   "execution_count": 802,
   "id": "d414c241-5a54-44d9-bf52-3521c430336c",
   "metadata": {},
   "outputs": [],
   "source": [
    "test_scrap = \"https://www.flipkart.com/search?q=laptops+under+200000&otracker=search&otracker1=search&marketplace=FLIPKART&as-show=off&as=off&p%5B%5D=facets.rating%255B%255D%3D4%25E2%2598%2585%2B%2526%2Babove&page=1\""
   ]
  },
  {
   "cell_type": "code",
   "execution_count": 803,
   "id": "4a20744b-adc3-495d-a1af-a321951161ba",
   "metadata": {},
   "outputs": [],
   "source": [
    "Product_Name = []\n",
    "Prices = []\n",
    "Descriptions = []\n",
    "Reviews = []\n",
    "Poster_url = []"
   ]
  },
  {
   "cell_type": "code",
   "execution_count": 804,
   "id": "14b3cb17-a63c-4917-8641-2f1876b7961c",
   "metadata": {},
   "outputs": [
    {
     "name": "stdout",
     "output_type": "stream",
     "text": [
      "<div class=\"KzDlHZ\">Acer Aspire 3 Backlit Intel Core i5 12th Gen 1235U - (16 GB/512 GB SSD/Windows 11 Home) A324-51 Thin a...</div>\n",
      "Acer Aspire 3 Backlit Intel Core i5 12th Gen 1235U - (16 GB/512 GB SSD/Windows 11 Home) A324-51 Thin a...\n"
     ]
    }
   ],
   "source": [
    "names = box.find_all(\"div\",class_ = \"KzDlHZ\")\n",
    "print(names[0])\n",
    "\n",
    "\n",
    "for i in names:\n",
    "    name = i.text\n",
    "    Product_Name.append(name)\n",
    "\n",
    "print(Product_Name[0])"
   ]
  },
  {
   "cell_type": "code",
   "execution_count": 805,
   "id": "7573ee21-8dc4-4fe4-a25c-3a4b54b6d9d1",
   "metadata": {},
   "outputs": [
    {
     "name": "stdout",
     "output_type": "stream",
     "text": [
      "<div class=\"Nx9bqj _4b5DiR\">₹44,990</div>\n",
      "₹44,990\n"
     ]
    }
   ],
   "source": [
    "prices = box.find_all(\"div\",class_ = \"Nx9bqj _4b5DiR\")\n",
    "print(prices[0])\n",
    "\n",
    "\n",
    "for i in prices:\n",
    "    price = i.text\n",
    "    Prices.append(price)\n",
    "\n",
    "print(Prices[0])"
   ]
  },
  {
   "cell_type": "code",
   "execution_count": 806,
   "id": "583aeffe-d5ef-48ef-94dd-fd2fa8b49c04",
   "metadata": {},
   "outputs": [
    {
     "name": "stdout",
     "output_type": "stream",
     "text": [
      "<div class=\"_6NESgJ\"><ul class=\"G4BRas\"><li class=\"J+igdf\">Intel Core i5 Processor (12th Gen)</li><li class=\"J+igdf\">16 GB DDR4 RAM</li><li class=\"J+igdf\">64 bit Windows 11 Operating System</li><li class=\"J+igdf\">512 GB SSD</li><li class=\"J+igdf\">35.56 cm (14 Inch) Display</li><li class=\"J+igdf\">1 Year Domestic Warranty</li></ul></div>\n",
      "Intel Core i5 Processor (12th Gen)16 GB DDR4 RAM64 bit Windows 11 Operating System512 GB SSD35.56 cm (14 Inch) Display1 Year Domestic Warranty\n"
     ]
    }
   ],
   "source": [
    "descriptions = box.find_all(\"div\",class_ = \"_6NESgJ\")\n",
    "print(descriptions[0])\n",
    "\n",
    "\n",
    "for i in descriptions:\n",
    "    description = i.text\n",
    "    Descriptions.append(description)\n",
    "\n",
    "print(Descriptions[0])"
   ]
  },
  {
   "cell_type": "code",
   "execution_count": 807,
   "id": "9cf4aa5a-cad2-4b7c-89db-5e171b59fb1e",
   "metadata": {},
   "outputs": [
    {
     "name": "stdout",
     "output_type": "stream",
     "text": [
      "<div class=\"XQDdHH\">4.1<img class=\"Rza2QY\" src=\"data:image/svg+xml;base64,PHN2ZyB4bWxucz0iaHR0cDovL3d3dy53My5vcmcvMjAwMC9zdmciIHdpZHRoPSIxMyIgaGVpZ2h0PSIxMiI+PHBhdGggZmlsbD0iI0ZGRiIgZD0iTTYuNSA5LjQzOWwtMy42NzQgMi4yMy45NC00LjI2LTMuMjEtMi44ODMgNC4yNTQtLjQwNEw2LjUuMTEybDEuNjkgNC4wMSA0LjI1NC40MDQtMy4yMSAyLjg4Mi45NCA0LjI2eiIvPjwvc3ZnPg==\"/></div>\n",
      "4.1\n"
     ]
    }
   ],
   "source": [
    "reviews = box.find_all(\"div\",class_ = \"XQDdHH\")\n",
    "print(reviews[0])\n",
    "\n",
    "\n",
    "for i in reviews:\n",
    "    review = i.text\n",
    "    Reviews.append(review)\n",
    "\n",
    "print(Reviews[0])"
   ]
  },
  {
   "cell_type": "code",
   "execution_count": 808,
   "id": "e1868b37-d054-4834-98a2-4a1186a1c744",
   "metadata": {},
   "outputs": [
    {
     "data": {
      "text/plain": [
       "24"
      ]
     },
     "execution_count": 808,
     "metadata": {},
     "output_type": "execute_result"
    }
   ],
   "source": [
    "len(Reviews)"
   ]
  },
  {
   "cell_type": "code",
   "execution_count": 809,
   "id": "af286ce5-27bb-46d7-b8d2-c6fbd7695894",
   "metadata": {},
   "outputs": [
    {
     "data": {
      "text/plain": [
       "24"
      ]
     },
     "execution_count": 809,
     "metadata": {},
     "output_type": "execute_result"
    }
   ],
   "source": [
    "len(Product_Name)"
   ]
  },
  {
   "cell_type": "code",
   "execution_count": 810,
   "id": "540aebdf-a067-4722-b7d5-f24582fcc156",
   "metadata": {},
   "outputs": [
    {
     "name": "stdout",
     "output_type": "stream",
     "text": [
      "<div class=\"_4WELSP\" style=\"height:200px;width:200px\"><img alt=\"Acer Aspire 3 Backlit Intel Core i5 12th Gen 1235U - (16 GB/512 GB SSD/Windows 11 Home) A324-51 Thin a...\" class=\"DByuf4\" loading=\"eager\" src=\"https://rukminim2.flixcart.com/image/312/312/xif0q/computer/6/q/i/a324-51-thin-and-light-laptop-acer-original-imah4bj6zhjvn8uh.jpeg?q=70\"/></div>\n",
      "https://rukminim2.flixcart.com/image/312/312/xif0q/computer/6/q/i/a324-51-thin-and-light-laptop-acer-original-imah4bj6zhjvn8uh.jpeg?q=70\n"
     ]
    }
   ],
   "source": [
    "posters = box.find_all(\"div\",class_ = \"_4WELSP\")\n",
    "print(posters[0])\n",
    "\n",
    "\n",
    "for i in posters:\n",
    "    img_tag = i.find(\"img\")  \n",
    "    Poster_url.append(img_tag['src']) \n",
    "\n",
    "print(Poster_url[0])"
   ]
  },
  {
   "cell_type": "code",
   "execution_count": null,
   "id": "3733fd1f-07be-420f-b4a1-f437cfc7a876",
   "metadata": {},
   "outputs": [],
   "source": []
  },
  {
   "cell_type": "code",
   "execution_count": 811,
   "id": "f75587bf-119b-4c52-b7d6-0e28934f425f",
   "metadata": {},
   "outputs": [
    {
     "data": {
      "text/plain": [
       "'df = pd.DataFrame({\\n    \"Product Name\": Product_Name,\\n    \"Price\": Prices,\\n    \"Description\": Descriptions,\\n    \"Review\": Reviews,\\n    \"Poster URL\": Poster_url\\n})\\n\\nprint(df.head())'"
      ]
     },
     "execution_count": 811,
     "metadata": {},
     "output_type": "execute_result"
    }
   ],
   "source": [
    "'''df = pd.DataFrame({\n",
    "    \"Product Name\": Product_Name,\n",
    "    \"Price\": Prices,\n",
    "    \"Description\": Descriptions,\n",
    "    \"Review\": Reviews,\n",
    "    \"Poster URL\": Poster_url\n",
    "})\n",
    "\n",
    "print(df.head())'''"
   ]
  },
  {
   "cell_type": "code",
   "execution_count": 812,
   "id": "8f89fbda-bb5a-4fce-bc00-45e01004b654",
   "metadata": {},
   "outputs": [],
   "source": [
    "Product_Name = []\n",
    "Prices = []\n",
    "Descriptions = []\n",
    "Reviews = []\n",
    "Poster_url = []"
   ]
  },
  {
   "cell_type": "markdown",
   "id": "fe442d02-2169-44ca-888b-4f43adfc1e8e",
   "metadata": {},
   "source": [
    "# MAIN SCRAPPING"
   ]
  },
  {
   "cell_type": "code",
   "execution_count": 813,
   "id": "0010ea56-5ff1-4506-9048-a0463663c1a4",
   "metadata": {},
   "outputs": [],
   "source": [
    "for i in range(1,20):\n",
    "    url1 = \"https://www.flipkart.com/search?q=laptops+under+200000&otracker=search&otracker1=search&marketplace=FLIPKART&as-show=off&as=off&p%5B%5D=facets.rating%255B%255D%3D4%25E2%2598%2585%2B%2526%2Babove&page=\"+str(i)\n",
    "    r = requests.get(url1)\n",
    "\n",
    "\n",
    "    soup = BeautifulSoup(r.text, 'html.parser')\n",
    "    box = soup.find(\"div\",class_ = \"DOjaWF gdgoEp\")\n",
    "    nextpage = soup.find(\"a\",class_ = \"_9QVEpD\").get(\"href\")\n",
    "\n",
    "\n",
    "    #NAMES\n",
    "    names = box.find_all(\"div\",class_ = \"KzDlHZ\")    \n",
    "    \n",
    "    for i in names:\n",
    "        name = i.text\n",
    "        Product_Name.append(name)\n",
    "    \n",
    "    #PRICES\n",
    "    prices = box.find_all(\"div\",class_ = \"Nx9bqj _4b5DiR\")\n",
    "    \n",
    "    \n",
    "    for i in prices:\n",
    "        price = i.text\n",
    "        Prices.append(price)\n",
    "    \n",
    "\n",
    "    #Descriptions\n",
    "    descriptions = box.find_all(\"div\",class_ = \"_6NESgJ\")\n",
    "    \n",
    "    \n",
    "    for i in descriptions:\n",
    "        description = i.text\n",
    "        Descriptions.append(description)\n",
    "    \n",
    "    #Reviews\n",
    "    reviews = box.find_all(\"div\",class_ = \"XQDdHH\")\n",
    "    \n",
    "    \n",
    "    for i in reviews:\n",
    "        review = i.text\n",
    "        Reviews.append(review)\n",
    "    \n",
    "\n",
    "\n",
    "    # POSTERS\n",
    "    posters = box.find_all(\"div\",class_ = \"_4WELSP\")\n",
    "    \n",
    "    \n",
    "    for i in posters:\n",
    "        img_tag = i.find(\"img\")  \n",
    "        Poster_url.append(img_tag['src']) \n",
    "    \n",
    "    "
   ]
  },
  {
   "cell_type": "code",
   "execution_count": 814,
   "id": "301e45c1-f805-4375-9bba-7a0a4bac7d61",
   "metadata": {},
   "outputs": [],
   "source": [
    "min_len = min(len(Product_Name), len(Prices), len(Descriptions), len(Reviews), len(Poster_url))\n",
    "\n",
    "\n",
    "Product_Name = Product_Name[:min_len]\n",
    "Prices = Prices[:min_len]\n",
    "Descriptions = Descriptions[:min_len]\n",
    "Reviews = Reviews[:min_len]\n",
    "Poster_url = Poster_url[:min_len]"
   ]
  },
  {
   "cell_type": "code",
   "execution_count": 815,
   "id": "59dec0c2-b043-48d3-a9f4-d135bc048536",
   "metadata": {},
   "outputs": [
    {
     "name": "stdout",
     "output_type": "stream",
     "text": [
      "                                        Product Name      Price  \\\n",
      "0  Acer Aspire 3 Backlit Intel Core i5 12th Gen 1...    ₹44,990   \n",
      "1  Lenovo IdeaPad Slim 3 Intel Core i5 12th Gen 1...    ₹49,890   \n",
      "2  ASUS Zenbook 14 OLED AI PC Intel Core Ultra 5 ...    ₹87,990   \n",
      "3  SAMSUNG Galaxy Book4 Pro Evo AI PC Intel Core ...  ₹1,01,990   \n",
      "4  ASUS ROG Strix G16 Intel Core i5 13th Gen 1345...  ₹1,11,290   \n",
      "\n",
      "                                         Description Review  \\\n",
      "0  Intel Core i5 Processor (12th Gen)16 GB DDR4 R...    4.1   \n",
      "1  Intel Core i5 Processor (12th Gen)8 GB LPDDR5 ...    4.1   \n",
      "2  Intel Core Ultra 5 Processor16 GB LPDDR5X RAMW...    4.7   \n",
      "3  Intel Core Ultra 5 Processor16 GB LPDDR5X RAM6...    4.3   \n",
      "4  Intel Core i5 Processor (13th Gen)16 GB DDR5 R...    4.2   \n",
      "\n",
      "                                          Poster URL  \n",
      "0  https://rukminim2.flixcart.com/image/312/312/x...  \n",
      "1  https://rukminim2.flixcart.com/image/312/312/x...  \n",
      "2  https://rukminim2.flixcart.com/image/312/312/x...  \n",
      "3  https://rukminim2.flixcart.com/image/312/312/x...  \n",
      "4  https://rukminim2.flixcart.com/image/312/312/x...  \n"
     ]
    }
   ],
   "source": [
    "df = pd.DataFrame({\n",
    "    \"Product Name\": Product_Name,\n",
    "    \"Price\": Prices,\n",
    "    \"Description\": Descriptions,\n",
    "    \"Review\": Reviews,\n",
    "    \"Poster URL\": Poster_url\n",
    "})\n",
    "\n",
    "print(df.head())"
   ]
  },
  {
   "cell_type": "code",
   "execution_count": 816,
   "id": "00adaf8a-7ca8-4938-9e04-b39ccf9742c4",
   "metadata": {},
   "outputs": [
    {
     "data": {
      "text/html": [
       "<div>\n",
       "<style scoped>\n",
       "    .dataframe tbody tr th:only-of-type {\n",
       "        vertical-align: middle;\n",
       "    }\n",
       "\n",
       "    .dataframe tbody tr th {\n",
       "        vertical-align: top;\n",
       "    }\n",
       "\n",
       "    .dataframe thead th {\n",
       "        text-align: right;\n",
       "    }\n",
       "</style>\n",
       "<table border=\"1\" class=\"dataframe\">\n",
       "  <thead>\n",
       "    <tr style=\"text-align: right;\">\n",
       "      <th></th>\n",
       "      <th>Product Name</th>\n",
       "      <th>Price</th>\n",
       "      <th>Description</th>\n",
       "      <th>Review</th>\n",
       "      <th>Poster URL</th>\n",
       "    </tr>\n",
       "  </thead>\n",
       "  <tbody>\n",
       "    <tr>\n",
       "      <th>count</th>\n",
       "      <td>420</td>\n",
       "      <td>420</td>\n",
       "      <td>420</td>\n",
       "      <td>420</td>\n",
       "      <td>420</td>\n",
       "    </tr>\n",
       "    <tr>\n",
       "      <th>unique</th>\n",
       "      <td>269</td>\n",
       "      <td>182</td>\n",
       "      <td>252</td>\n",
       "      <td>18</td>\n",
       "      <td>240</td>\n",
       "    </tr>\n",
       "    <tr>\n",
       "      <th>top</th>\n",
       "      <td>Acer Aspire 3 Backlit Intel Core i5 12th Gen 1...</td>\n",
       "      <td>₹44,990</td>\n",
       "      <td>Intel Core i5 Processor (12th Gen)16 GB DDR4 R...</td>\n",
       "      <td>4.2</td>\n",
       "      <td>https://rukminim2.flixcart.com/image/312/312/x...</td>\n",
       "    </tr>\n",
       "    <tr>\n",
       "      <th>freq</th>\n",
       "      <td>17</td>\n",
       "      <td>17</td>\n",
       "      <td>17</td>\n",
       "      <td>87</td>\n",
       "      <td>18</td>\n",
       "    </tr>\n",
       "  </tbody>\n",
       "</table>\n",
       "</div>"
      ],
      "text/plain": [
       "                                             Product Name    Price  \\\n",
       "count                                                 420      420   \n",
       "unique                                                269      182   \n",
       "top     Acer Aspire 3 Backlit Intel Core i5 12th Gen 1...  ₹44,990   \n",
       "freq                                                   17       17   \n",
       "\n",
       "                                              Description Review  \\\n",
       "count                                                 420    420   \n",
       "unique                                                252     18   \n",
       "top     Intel Core i5 Processor (12th Gen)16 GB DDR4 R...    4.2   \n",
       "freq                                                   17     87   \n",
       "\n",
       "                                               Poster URL  \n",
       "count                                                 420  \n",
       "unique                                                240  \n",
       "top     https://rukminim2.flixcart.com/image/312/312/x...  \n",
       "freq                                                   18  "
      ]
     },
     "execution_count": 816,
     "metadata": {},
     "output_type": "execute_result"
    }
   ],
   "source": [
    "df.describe()"
   ]
  },
  {
   "cell_type": "code",
   "execution_count": 817,
   "id": "de4ffcbf-16c4-40b0-8523-856bec8506f2",
   "metadata": {},
   "outputs": [
    {
     "data": {
      "text/plain": [
       "2100"
      ]
     },
     "execution_count": 817,
     "metadata": {},
     "output_type": "execute_result"
    }
   ],
   "source": [
    "df.size"
   ]
  },
  {
   "cell_type": "code",
   "execution_count": 820,
   "id": "d47e66f6-23d8-4d55-8e05-c62f6d1e6dca",
   "metadata": {},
   "outputs": [],
   "source": [
    "#df.to_csv(\"Laptop_Flipkart.csv\")"
   ]
  },
  {
   "cell_type": "code",
   "execution_count": 819,
   "id": "6b061543-0527-49ec-a8e8-becf2691149d",
   "metadata": {},
   "outputs": [
    {
     "data": {
      "text/plain": [
       "'https://rukminim2.flixcart.com/image/312/312/xif0q/computer/6/q/i/a324-51-thin-and-light-laptop-acer-original-imah4bj6zhjvn8uh.jpeg?q=70'"
      ]
     },
     "execution_count": 819,
     "metadata": {},
     "output_type": "execute_result"
    }
   ],
   "source": [
    "Poster_url[0]"
   ]
  },
  {
   "cell_type": "code",
   "execution_count": null,
   "id": "e2f91655-001c-463b-8da9-deafcc6156e3",
   "metadata": {},
   "outputs": [],
   "source": []
  }
 ],
 "metadata": {
  "kernelspec": {
   "display_name": "Python 3 (ipykernel)",
   "language": "python",
   "name": "python3"
  },
  "language_info": {
   "codemirror_mode": {
    "name": "ipython",
    "version": 3
   },
   "file_extension": ".py",
   "mimetype": "text/x-python",
   "name": "python",
   "nbconvert_exporter": "python",
   "pygments_lexer": "ipython3",
   "version": "3.13.1"
  }
 },
 "nbformat": 4,
 "nbformat_minor": 5
}
